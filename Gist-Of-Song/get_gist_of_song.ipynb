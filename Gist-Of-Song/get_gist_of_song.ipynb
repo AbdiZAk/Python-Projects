{
 "cells": [
  {
   "cell_type": "code",
   "execution_count": null,
   "metadata": {
    "collapsed": true,
    "pycharm": {
     "name": "#%%\n"
    }
   },
   "outputs": [],
   "source": [
    "import requests\n",
    "# import import_ipynb\n",
    "from ipywidgets import widgets, interact_manual\n",
    "from googleapi import get_sentiment, key_phrase\n",
    "from dotenv import load_dotenv\n",
    "import os\n",
    "\n",
    "\n",
    "def config():\n",
    "    load_dotenv()\n",
    "\n",
    "\n",
    "def get_lyrics(track, artist):\n",
    "    # Get thr lyrics of a song\n",
    "    url = 'https://api.musixmatch.com/ws/1.1/matcher.lyrics.get'\n",
    "\n",
    "    params = {\n",
    "        \"q_track\": track,\n",
    "        \"q_artist\": artist,\n",
    "        \"apikey\": os.getenv(\"musix_api_key\")\n",
    "    }\n",
    "\n",
    "    response = requests.get(url, params=params)\n",
    "    response.raise_for_status()\n",
    "    response = response.json()\n",
    "    status = response['message']['header']['status_code']\n",
    "    if 200 <= status <= 299:\n",
    "        lyrics = response['message']['body']['lyrics']['lyrics_body']\n",
    "        return lyrics\n",
    "    else:\n",
    "        return 'error'\n",
    "\n",
    "\n",
    "@interact_manual(Song='', Artist='')\n",
    "def main(Song, Artist):\n",
    "    load_dotenv()\n",
    "    #     'First world problem', 'Weird Al Yankovic'\n",
    "    # get the lyrics of the song using Musixmatch's api\n",
    "    data = get_lyrics(Song, Artist)\n",
    "    if data == 'error':\n",
    "        print(\"Invalid Song or Artist Name!\")\n",
    "    else:\n",
    "        lyrics = data\n",
    "        # extract key phrases using microsfot azure text api\n",
    "        phrases = key_phrase(lyrics)\n",
    "        # Get the sentiment of the song\n",
    "        sentiment = get_sentiment(lyrics)\n",
    "\n",
    "        # put all key phrases into a list\n",
    "        all_phrases = ''\n",
    "        for phrase in phrases['documents'][0]['keyPhrases']:\n",
    "\n",
    "            # if the key phrase is the last element in the list add it with out a comma\n",
    "            if phrase == phrases['documents'][0]['keyPhrases'][-1]:\n",
    "                all_phrases += (f\"and {phrase.title()}. \")\n",
    "            # add all the key phrases into the list\n",
    "            else:\n",
    "                all_phrases += (f\"{phrase.title()}, \")\n",
    "\n",
    "        # print the gist of the song\n",
    "        print(f\"{Song} by {Artist} is a {sentiment} song about {all_phrases}\")\n",
    "\n",
    "\n"
   ]
  }
 ],
 "metadata": {
  "kernelspec": {
   "display_name": "Python 3",
   "language": "python",
   "name": "python3"
  },
  "language_info": {
   "codemirror_mode": {
    "name": "ipython",
    "version": 2
   },
   "file_extension": ".py",
   "mimetype": "text/x-python",
   "name": "python",
   "nbconvert_exporter": "python",
   "pygments_lexer": "ipython2",
   "version": "2.7.6"
  }
 },
 "nbformat": 4,
 "nbformat_minor": 0
}