{
 "cells": [
  {
   "cell_type": "code",
   "execution_count": 6,
   "metadata": {},
   "outputs": [],
   "source": [
    "import requests\n",
    "import json\n",
    "import pandas as pd\n",
    "# import import_ipynb\n",
    "import googleapi as google\n",
    "from IPython.display import display, HTML, Image\n",
    "from ipywidgets import interact_manual\n",
    "from datetime import datetime\n",
    "from dotenv import load_dotenv\n",
    "import os\n",
    "\n",
    "def config():\n",
    "    load_dotenv()\n",
    "\n",
    "\n",
    "weather_key = os.getenv(\"Weather_key\")\n",
    "google_api_key = os.getenv(\"google_api_key\")\n",
    "\n",
    "\n",
    "\n",
    "def get_geocode(location):\n",
    "    return google.googleGeocode(google_api_key, location)\n",
    "\n"
   ]
  },
  {
   "cell_type": "code",
   "execution_count": 7,
   "metadata": {
    "pycharm": {
     "name": "#%%\n"
    }
   },
   "outputs": [],
   "source": [
    "def get_weather_data(weather_key, lat, lon):\n",
    "    url = 'https://api.openweathermap.org/data/2.5/onecall?'\n",
    "    query_string = {\n",
    "        \"lat\": lat,\n",
    "        \"lon\": lon,\n",
    "        \"exclude\": \"minutely,hourly\",\n",
    "        'units': \"imperial\",\n",
    "        \"appid\": weather_key\n",
    "\n",
    "    }\n",
    "    response = requests.get(url, params=query_string)\n",
    "    response.raise_for_status()\n",
    "#     print(response.url)\n",
    "    response = response.json()\n",
    "    return response\n",
    "\n",
    "\n",
    "def image_link(link):\n",
    "    return '<img src=\"'+ link + '\" width=\"60\" >'\n"
   ]
  },
  {
   "cell_type": "code",
   "execution_count": 8,
   "metadata": {
    "pycharm": {
     "name": "#%%\n"
    }
   },
   "outputs": [
    {
     "data": {
      "application/vnd.jupyter.widget-view+json": {
       "model_id": "c464181661364c12871b1a1f8168a00f",
       "version_major": 2,
       "version_minor": 0
      },
      "text/plain": [
       "interactive(children=(Text(value='', description='Location'), Button(description='Run Interact', style=ButtonS…"
      ]
     },
     "metadata": {},
     "output_type": "display_data"
    }
   ],
   "source": [
    "\n",
    "@interact_manual(Location = \"\")\n",
    "def main(Location):\n",
    "    #get geocode of location\n",
    "    geo_data = get_geocode(Location)\n",
    "    lat = geo_data['lat']\n",
    "    lon = geo_data['lng']\n",
    "\n",
    "    # get the weather of the loction\n",
    "    weather = get_weather_data(weather_key, lat, lon)\n",
    "    # Current temperature and description of the location\n",
    "    temp = round(weather[\"current\"]['temp'])\n",
    "    description = weather[\"current\"]['weather'][0]['description']\n",
    "    #weather icon\n",
    "    icon = weather[\"current\"]['weather'][0]['icon']\n",
    "    iconurl = f\"http://openweathermap.org/img/wn/{icon}@2x.png\"\n",
    "\n",
    "    #display the current temp, description and icon\n",
    "    display(HTML(f\"<h2>Current Weather in {Location}<h2>\"))\n",
    "    display(HTML(f\"<p>{description} with a Temperature of {temp} Deg F.<p>\"))\n",
    "    display(Image(url=iconurl))\n",
    "\n",
    "    #Data Frame\n",
    "    display(HTML(f\"<h2>7 Day Forecast for {Location}<h2>\"))\n",
    "    #All the weather data in a data frame one\n",
    "    df = pd.DataFrame(weather['daily'])\n",
    "\n",
    "    #Turn the dict in temp into a new columns data frame 2\n",
    "    df2 = pd.json_normalize(df[\"temp\"])\n",
    "\n",
    "    #use lambda to convert unix timestamp into datetime format (%yyyy,%dd,%mm)(1 = x-axis)\n",
    "    days = df.apply(lambda x: datetime.fromtimestamp(x['dt']), axis=1  )\n",
    "    # create a data frame from the days only\n",
    "    days_df = pd.DataFrame(days)\n",
    "    #use lambda to turn the panda Series object into an int\n",
    "    df2 = df2.apply(lambda x:x.astype(int), axis=1)\n",
    "    #both frames that need to be concatnated\n",
    "    frames = [days_df, df2]\n",
    "    result = pd.concat(frames, axis=1,)\n",
    "    #Change the column names\n",
    "    week_weather = result.rename(columns ={0: \"Day\", 'min': 'Low', 'max': \"High\"})\n",
    "    # convert datetime into pandas day name\n",
    "    iconurls = []\n",
    "    current_icon = weather[\"current\"]\n",
    "    for week in weather['daily']:\n",
    "        for day in week['weather']:\n",
    "            icon = day['icon']\n",
    "            iconurl = f\"http://openweathermap.org/img/wn/{icon}@2x.png\"\n",
    "            iconurls.append(iconurl)\n",
    "\n",
    "\n",
    "    week_weather['Icon'] = iconurls\n",
    "    week_weather['Day'] = week_weather['Day'].dt.day_name()\n",
    "    week_weather.apply(lambda x: image_link(x['Icon']), axis=1)\n",
    "\n",
    "    # #grap only necessary information to display\n",
    "    week_weather = week_weather[['Icon', 'Day', \"Low\", 'High']]\n",
    "\n",
    "\n",
    "    icon_df = HTML(week_weather.to_html(escape=False,formatters=dict(Icon=image_link)))\n",
    "    display(icon_df)\n"
   ]
  }
 ],
 "metadata": {
  "kernelspec": {
   "display_name": "Python 3 (ipykernel)",
   "language": "python",
   "name": "python3"
  },
  "language_info": {
   "codemirror_mode": {
    "name": "ipython",
    "version": 3
   },
   "file_extension": ".py",
   "mimetype": "text/x-python",
   "name": "python",
   "nbconvert_exporter": "python",
   "pygments_lexer": "ipython3",
   "version": "3.10.1"
  }
 },
 "nbformat": 4,
 "nbformat_minor": 1
}